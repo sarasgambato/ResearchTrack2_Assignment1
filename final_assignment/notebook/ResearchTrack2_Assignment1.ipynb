{
 "cells": [
  {
   "cell_type": "markdown",
   "id": "41f19ed5",
   "metadata": {},
   "source": [
    "# NOTEBOOK FOR THE RT2 ASSIGNMENT #\n",
    "\n",
    "In order to use this notebook as user interface, run before the following command:\n",
    "```sh\n",
    "roslaunch final_assignment jupy_launch.launch\n",
    "```"
   ]
  },
  {
   "cell_type": "markdown",
   "id": "c98c56b6",
   "metadata": {},
   "source": [
    "## Imports and node intialization ##"
   ]
  },
  {
   "cell_type": "code",
   "execution_count": 13,
   "id": "3df14e7d",
   "metadata": {},
   "outputs": [],
   "source": [
    "from geometry_msgs.msg import Twist\n",
    "from sensor_msgs.msg import LaserScan\n",
    "from move_base_msgs.msg import MoveBaseActionGoal\n",
    "from actionlib_msgs.msg import GoalID, GoalStatusArray\n",
    "from nav_msgs.msg import Odometry\n",
    "from IPython.display import display, clear_output\n",
    "from ipywidgets import interactive_output\n",
    "from jupyros import ros3d\n",
    "import os\n",
    "import ipywidgets as widgets\n",
    "import jupyros as jr\n",
    "import rospy\n",
    "import numpy as np\n",
    "import matplotlib.pyplot as plt\n",
    "from matplotlib.animation import FuncAnimation\n",
    "\n",
    "# definition of global variables\n",
    "flag = False\n",
    "assisted = False\n",
    "status = -1\n",
    "\n",
    "rospy.init_node(\"robot_controller\") # initiliaze the node\n",
    "pubV = rospy.Publisher(\"/cmd_vel\", Twist, queue_size = 1) # initialize a publisher to the /cmd_vel topic\n",
    "pubG = rospy.Publisher(\"/move_base/goal\", MoveBaseActionGoal, queue_size = 1) # initialize a publisher to the /move_base/goal topic\n",
    "pubC = rospy.Publisher(\"/move_base/cancel\", GoalID, queue_size = 1) # initialize a publisher to the /move_base/cancel topic"
   ]
  },
  {
   "cell_type": "markdown",
   "id": "ea4df91a",
   "metadata": {},
   "source": [
    "## Subscriber to the /move_base/status topic ##"
   ]
  },
  {
   "cell_type": "code",
   "execution_count": 14,
   "id": "5f3b7358",
   "metadata": {},
   "outputs": [],
   "source": [
    "reached, canceled = 0, 0\n",
    "\n",
    "def getStatus(msg):\n",
    "    \n",
    "    global flag, reached, canceled\n",
    "    \n",
    "    if flag == True:\n",
    "    \n",
    "        goal_id = GoalID()\n",
    "        status = msg.status_list[0].status\n",
    "\n",
    "        if status == 3:\n",
    "            print(\"The goal was successfully reached!\")\n",
    "            status = -1\n",
    "            pubC.publish(goal_id)\n",
    "            reached += 1\n",
    "            flag = False\n",
    "\n",
    "        if status == 4:\n",
    "            print(\"The goal was aborted!\")\n",
    "            status = -1\n",
    "            pubC.publish(goal_id)\n",
    "            canceled += 1\n",
    "            flag = False\n",
    "\n",
    "        if status == 5:\n",
    "            print(\"The goal was rejected!\")\n",
    "            status = -1\n",
    "            pubC.publish(goal_id)\n",
    "            canceled += 1\n",
    "            flag = False\n",
    "        \n",
    "subS = rospy.Subscriber(\"/move_base/status\", GoalStatusArray, getStatus)"
   ]
  },
  {
   "cell_type": "markdown",
   "id": "33348959",
   "metadata": {},
   "source": [
    "## Subscriber to the /scan topic ##"
   ]
  },
  {
   "cell_type": "code",
   "execution_count": 15,
   "id": "8932ffe2",
   "metadata": {},
   "outputs": [],
   "source": [
    "wall_th = 1 # wall threshold\n",
    "\n",
    "def assistedDrive(msg):\n",
    "    # Callback function to avoid the collision with the walls\n",
    "    global assisted, lin, ang\n",
    "    \n",
    "    # the function is useful only when the boolean 'assisted' is set to True\n",
    "    if assisted == True:\n",
    "        vel = Twist()\n",
    "\n",
    "        # Distance of the closest obstacle on the right, front, left of the robot\n",
    "        right = min(min(msg.ranges[0:69]), 1)     \n",
    "        front = min(min(msg.ranges[300:419]), 1)   \n",
    "        left = min(min(msg.ranges[650:719]), 1)     \n",
    "\n",
    "        vel.linear.x = lin\n",
    "        vel.angular.z = ang\n",
    "        \n",
    "        if front < wall_th:\n",
    "            vel.linear.x = 0\n",
    "        elif left < wall_th:\n",
    "            vel.angular.z = -1\n",
    "        elif right < wall_th:\n",
    "            vel.angular.z = 1\n",
    "        else:\n",
    "            pass\n",
    "\n",
    "        pubV.publish(vel)\n",
    "            \n",
    "subL = rospy.Subscriber('/scan', LaserScan, assistedDrive)    "
   ]
  },
  {
   "cell_type": "markdown",
   "id": "6cf043b5",
   "metadata": {},
   "source": [
    "## Subscriber to the /cmd_vel topic ##"
   ]
  },
  {
   "cell_type": "code",
   "execution_count": 16,
   "id": "97fe8ac7",
   "metadata": {},
   "outputs": [],
   "source": [
    "def updateVel(msg):\n",
    "    \n",
    "    global lin, ang\n",
    "    \n",
    "    lin = msg.linear.x\n",
    "    ang = msg.angular.z\n",
    "    \n",
    "subV = rospy.Subscriber(\"/cmd_vel\", Twist, updateVel)"
   ]
  },
  {
   "cell_type": "markdown",
   "id": "1dc68c5c",
   "metadata": {},
   "source": [
    "## Definition of widgets ##"
   ]
  },
  {
   "cell_type": "code",
   "execution_count": 17,
   "id": "bd801fae",
   "metadata": {},
   "outputs": [],
   "source": [
    "# Widget to prompt the user\n",
    "driving_mode = widgets.ToggleButtons(\n",
    "    options=[(\"Reach point\", 1), (\"Drive manually\", 2)],\n",
    "    description=\"Options:\",\n",
    "    value=1,\n",
    "    disabled=False,\n",
    "    button_style='',\n",
    ")\n",
    "\n",
    "# Widgets for the reachPoint function\n",
    "buttonSet = widgets.Button(description = \"Set new goal\")\n",
    "buttonCanc = widgets.Button(description = \"Cancel current goal\")\n",
    "setX = widgets.FloatText(\n",
    "    description=\"X coordinate:\",\n",
    "    disabled=False\n",
    ")\n",
    "        \n",
    "setY = widgets.FloatText(\n",
    "    description=\"Y coordinate:\",\n",
    "    disabled=False\n",
    ")\n",
    "\n",
    "# Widgets for the driveManually function\n",
    "assistedDrive = widgets.Checkbox(\n",
    "    value=False,\n",
    "    description=\"Assisted drive\",\n",
    "    disabled=False,\n",
    "    indent=False\n",
    ")\n",
    "buttonFront = widgets.Button(description = \"Go forward\")\n",
    "buttonRight = widgets.Button(description = \"Turn right\")\n",
    "buttonBack = widgets.Button(description = \"Go backward\")\n",
    "buttonLeft = widgets.Button(description = \"Turn left\")\n",
    "buttonIncrease = widgets.Button(description = \"Increase vel\")\n",
    "buttonDecrease = widgets.Button(description = \"Decrease vel\")\n",
    "buttonStop = widgets.Button(description = \"Stop robot\")"
   ]
  },
  {
   "cell_type": "markdown",
   "id": "08a10264",
   "metadata": {},
   "source": [
    "## Function to reach a point autonomously ##"
   ]
  },
  {
   "cell_type": "code",
   "execution_count": 18,
   "id": "a1040104",
   "metadata": {},
   "outputs": [],
   "source": [
    "def reachPoint():\n",
    "    \n",
    "    with output1:\n",
    "        clear_output(wait=True)\n",
    "        \n",
    "        outputSet = widgets.Output()\n",
    "        outputCanc = widgets.Output()\n",
    "        \n",
    "        display(setX, setY, buttonSet, outputSet)\n",
    "        display(buttonCanc, outputCanc)\n",
    "        \n",
    "        def setGoal(b):\n",
    "            # function binded with the button buttonSet to set the goal\n",
    "            global flag\n",
    "            \n",
    "            with outputSet:\n",
    "                clear_output(wait=True)\n",
    "                xCoord = float(setX.value)\n",
    "                yCoord = float(setY.value)\n",
    "                print(\"Current goal: (%f, %f)\" % (xCoord, yCoord))\n",
    "\n",
    "                my_goal = MoveBaseActionGoal()\n",
    "                my_goal.goal.target_pose.pose.position.x = xCoord\n",
    "                my_goal.goal.target_pose.pose.position.y = yCoord \n",
    "                my_goal.goal.target_pose.header.frame_id = \"map\"\n",
    "                my_goal.goal.target_pose.pose.orientation.w = 1\n",
    "\n",
    "                pubG.publish(my_goal)\n",
    "                flag = True\n",
    "                \n",
    "        def cancelGoal(b):\n",
    "            # function binded with the button buttonCanc to cancel the goal\n",
    "            global flag, canceled\n",
    "            \n",
    "            with outputCanc:\n",
    "                clear_output(wait=True)\n",
    "                if flag == True:\n",
    "                    id_cancel = GoalID()\n",
    "                    pubC.publish(id_cancel)\n",
    "                    print(\"The goal has been correctly cancelled!\")\n",
    "                    canceled += 1\n",
    "                else:\n",
    "                    print(\"No goal has been set yet!\")\n",
    "                    \n",
    "            flag = False\n",
    "                   \n",
    "        buttonSet.on_click(setGoal)\n",
    "        buttonCanc.on_click(cancelGoal)  "
   ]
  },
  {
   "cell_type": "markdown",
   "id": "80c9bf9c",
   "metadata": {},
   "source": [
    "## Function to drive the robot manually ##"
   ]
  },
  {
   "cell_type": "code",
   "execution_count": 19,
   "id": "98862733",
   "metadata": {},
   "outputs": [],
   "source": [
    "acc = 1 # acceleration factor, initally set at 1\n",
    "\n",
    "def driveManually():\n",
    "    \n",
    "    with output2:\n",
    "        clear_output(wait=True)\n",
    "        \n",
    "        global lin, ang, acc\n",
    "        \n",
    "        display(assistedDrive)\n",
    "        display(buttonFront, buttonRight, buttonBack, buttonLeft)\n",
    "        display(buttonIncrease, buttonDecrease, buttonStop)\n",
    "        \n",
    "        vel = Twist()\n",
    "        \n",
    "        def setAssisted(b):\n",
    "            # function binded with the checkbox assistedDrive to set the assisted drive\n",
    "            global assisted\n",
    "            if assisted == False:\n",
    "                assisted = True\n",
    "            else:\n",
    "                assisted = False\n",
    "        \n",
    "        # functions binded with the buttons to move the robot\n",
    "        def front(b):\n",
    "            vel.linear.x = 0.5\n",
    "            vel.angular.z = 0\n",
    "            pubV.publish(vel)\n",
    "\n",
    "        def right(b):\n",
    "            vel.linear.x = 0\n",
    "            vel.angular.z = -1\n",
    "            pubV.publish(vel)\n",
    "\n",
    "        def back(b):\n",
    "            vel.linear.x = -0.5\n",
    "            vel.angular.z = 0\n",
    "            pubV.publish(vel)\n",
    "\n",
    "        def left(b):\n",
    "            vel.linear.x = 0\n",
    "            vel.angular.z = 1\n",
    "            pubV.publish(vel)\n",
    "            \n",
    "        def increaseVel(b):\n",
    "            global lin ,ang, acc\n",
    "            acc += 0.25\n",
    "            if acc >= 1 and acc <= 2:\n",
    "                lin *= acc\n",
    "                ang *= acc\n",
    "            vel.linear.x = lin\n",
    "            vel.angular.z = ang\n",
    "            pubV.publish(vel)\n",
    "\n",
    "        def decreaseVel(b):\n",
    "            global lin, ang, acc\n",
    "            acc -= 0.25\n",
    "            if acc >= 0 and acc <= 1:\n",
    "                lin *= acc\n",
    "                ang *= acc\n",
    "            vel.linear.x = lin\n",
    "            vel.angular.z = ang\n",
    "            pubV.publish(vel)\n",
    "            \n",
    "        def stopRobot(b):\n",
    "            vel.linear.x = 0\n",
    "            vel.angular.z = 0\n",
    "            pubV.publish(vel)\n",
    "        \n",
    "        assistedDrive.observe(setAssisted)\n",
    "        buttonFront.on_click(front)\n",
    "        buttonRight.on_click(right)\n",
    "        buttonBack.on_click(back)\n",
    "        buttonLeft.on_click(left)\n",
    "        buttonIncrease.on_click(increaseVel)\n",
    "        buttonDecrease.on_click(decreaseVel)\n",
    "        buttonStop.on_click(stopRobot)"
   ]
  },
  {
   "cell_type": "markdown",
   "id": "7cf59493",
   "metadata": {},
   "source": [
    "## Starting U.I. to ask the user the driving modality ##"
   ]
  },
  {
   "cell_type": "code",
   "execution_count": 20,
   "id": "ea43ad85",
   "metadata": {},
   "outputs": [
    {
     "data": {
      "application/vnd.jupyter.widget-view+json": {
       "model_id": "e1f1e81ae4494efc94fd83bf8df3885e",
       "version_major": 2,
       "version_minor": 0
      },
      "text/plain": [
       "ToggleButtons(description='Options:', options=(('Reach point', 1), ('Drive manually', 2)), value=1)"
      ]
     },
     "metadata": {},
     "output_type": "display_data"
    },
    {
     "data": {
      "application/vnd.jupyter.widget-view+json": {
       "model_id": "ce706921c04a4f79916c39dd7d9f1039",
       "version_major": 2,
       "version_minor": 0
      },
      "text/plain": [
       "Output()"
      ]
     },
     "metadata": {},
     "output_type": "display_data"
    },
    {
     "data": {
      "application/vnd.jupyter.widget-view+json": {
       "model_id": "0ab48faa3c93446fbf185180a2aba9f2",
       "version_major": 2,
       "version_minor": 0
      },
      "text/plain": [
       "Output()"
      ]
     },
     "metadata": {},
     "output_type": "display_data"
    }
   ],
   "source": [
    "display(driving_mode)\n",
    "\n",
    "def choose(mode):\n",
    "    \n",
    "    if mode == 1:\n",
    "        reachPoint()\n",
    "        \n",
    "    if mode == 2:\n",
    "        driveManually()\n",
    "        \n",
    "interactive_output(choose, {'mode': driving_mode})        \n",
    "\n",
    "output1 = widgets.Output()\n",
    "output2 = widgets.Output()\n",
    "\n",
    "display(output1)\n",
    "display(output2)"
   ]
  },
  {
   "cell_type": "markdown",
   "id": "b192d438",
   "metadata": {},
   "source": [
    "## View of the robot ##"
   ]
  },
  {
   "cell_type": "code",
   "execution_count": 21,
   "id": "c0d364f6",
   "metadata": {},
   "outputs": [
    {
     "data": {
      "application/vnd.jupyter.widget-view+json": {
       "model_id": "4cc5338ad7a74eadbb2be27232501cde",
       "version_major": 2,
       "version_minor": 0
      },
      "text/plain": [
       "Viewer(objects=[GridModel(), LaserScan(ros=ROSConnection(url='ws://localhost:9090'), tf_client=TFClient(fixed_…"
      ]
     },
     "metadata": {},
     "output_type": "display_data"
    }
   ],
   "source": [
    "v = ros3d.Viewer()\n",
    "rc = ros3d.ROSConnection(url=\"ws://localhost:9090\")\n",
    "tf_client = ros3d.TFClient(ros=rc, fixed_frame='map')\n",
    "laser_view = ros3d.LaserScan(topic=\"/scan\", ros=rc, tf_client=tf_client)\n",
    "map_view = ros3d.OccupancyGrid(topic=\"/map\", ros=rc, tf_client=tf_client)\n",
    "path = ros3d.Path(topic=\"/move_base/NavfnROS/plan\", ros=rc, tf_client=tf_client)\n",
    "urdf = ros3d.URDFModel(ros=rc, tf_client=tf_client, path=os.environ.get('JUPYROS_ASSETS_URL', 'http://localhost:3000'))\n",
    "g = ros3d.GridModel()\n",
    "v.objects = [g, laser_view, map_view, path, urdf]\n",
    "v"
   ]
  },
  {
   "cell_type": "markdown",
   "id": "f00c57bb",
   "metadata": {},
   "source": [
    "# Robot's behaviour #"
   ]
  },
  {
   "cell_type": "code",
   "execution_count": 22,
   "id": "882ff6a8",
   "metadata": {},
   "outputs": [
    {
     "data": {
      "application/vnd.jupyter.widget-view+json": {
       "model_id": "0bf5a16a59354a1a9b335e6fc236e1b9",
       "version_major": 2,
       "version_minor": 0
      },
      "text/plain": [
       "Canvas(toolbar=Toolbar(toolitems=[('Home', 'Reset original view', 'home', 'home'), ('Back', 'Back to previous …"
      ]
     },
     "metadata": {},
     "output_type": "display_data"
    }
   ],
   "source": [
    "%matplotlib widget\n",
    "\n",
    "# Visualization of the odometry\n",
    "\n",
    "class Visualiser:\n",
    "    \n",
    "    def __init__(self):\n",
    "        \n",
    "        self.fig, self.ax = plt.subplots()\n",
    "        self.ln, = plt.plot([], [], 'b-')\n",
    "        self.x_data, self.y_data = [] , []\n",
    "        \n",
    "    def plot_init(self):\n",
    "        self.ax.set_xlim(-10, 10)\n",
    "        self.ax.set_ylim(-10, 10)\n",
    "        return self.ln\n",
    "    \n",
    "    def odom_callback(self, msg):\n",
    "        self.y_data.append(msg.pose.pose.position.y)\n",
    "        self.x_data.append(msg.pose.pose.position.x)\n",
    "        \n",
    "    def update_plot(self, frame):\n",
    "        self.ln.set_data(self.x_data, self.y_data)\n",
    "        return self.ln\n",
    "    \n",
    "vis = Visualiser()\n",
    "subS = rospy.Subscriber('/odom', Odometry, vis.odom_callback)\n",
    "ani = FuncAnimation(vis.fig, vis.update_plot, init_func=vis.plot_init)\n",
    "plt.show(block=True)"
   ]
  },
  {
   "cell_type": "code",
   "execution_count": 23,
   "id": "4af323b4",
   "metadata": {},
   "outputs": [
    {
     "data": {
      "application/vnd.jupyter.widget-view+json": {
       "model_id": "b3df4243e36f46e7b0bc88e009ae5c79",
       "version_major": 2,
       "version_minor": 0
      },
      "text/plain": [
       "Canvas(toolbar=Toolbar(toolitems=[('Home', 'Reset original view', 'home', 'home'), ('Back', 'Back to previous …"
      ]
     },
     "metadata": {},
     "output_type": "display_data"
    }
   ],
   "source": [
    "# Visualization of the laser scan\n",
    "\n",
    "import math\n",
    "class Visualiser:\n",
    "    def __init__(self):\n",
    "        \n",
    "        self.fig, self.ax = plt.subplots()\n",
    "        self.ln, = plt.plot([], [], 'r.')\n",
    "        self.x_plot, self.y_plot = [], []\n",
    "    \n",
    "    def plot_init(self):\n",
    "        self.ax.set_xlim(-15,15)\n",
    "        self.ax.set_ylim(-15,15)\n",
    "        return self.ln\n",
    "        \n",
    "    def scanner_callback(self, msg):\n",
    "        self.x_plot = []\n",
    "        self.y_plot = []\n",
    "        angle = msg.angle_min\n",
    "        \n",
    "        for i in range(0, len(msg.ranges)):\n",
    "            self.x_plot.append(msg.ranges[i]*math.cos(angle))\n",
    "            self.y_plot.append(msg.ranges[i]*math.sin(angle))\n",
    "            angle = angle + msg.angle_increment\n",
    "            \n",
    "    def update_plot(self, frame):\n",
    "        self.ln.set_data(self.x_plot, self.y_plot)\n",
    "        return self.ln\n",
    "        \n",
    "\n",
    "vis = Visualiser()\n",
    "sub = rospy.Subscriber('/scan', LaserScan, vis.scanner_callback)\n",
    "ani = FuncAnimation(vis.fig, vis.update_plot, init_func = vis.plot_init)\n",
    "plt.show(block = True)"
   ]
  },
  {
   "cell_type": "code",
   "execution_count": 25,
   "id": "a6dc1507",
   "metadata": {},
   "outputs": [
    {
     "data": {
      "application/vnd.jupyter.widget-view+json": {
       "model_id": "dacde6e54c0c4375b968f059e41475a9",
       "version_major": 2,
       "version_minor": 0
      },
      "text/plain": [
       "Canvas(toolbar=Toolbar(toolitems=[('Home', 'Reset original view', 'home', 'home'), ('Back', 'Back to previous …"
      ]
     },
     "metadata": {},
     "output_type": "display_data"
    }
   ],
   "source": [
    "# Visualization of the goals\n",
    "\n",
    "buttonGoals = widgets.Button(description = \"Show goals history\")\n",
    "display(buttonGoals)\n",
    "\n",
    "def showGoals(b):\n",
    "    clear_output(wait=True)\n",
    "    fig2, ax3 = plt.subplots()\n",
    "    ax3.cla()\n",
    "    reachedGoals = (reached); \n",
    "    canceledGoals = (canceled); \n",
    "    index = np.arange(1);\n",
    "    ax3.bar(index, reachedGoals, align='edge', width=0.35, alpha=0.4, color='g', label='Reached goals')\n",
    "    ax3.bar(index+0.35, canceledGoals, align='edge', width=0.35, alpha=0.40, color='r', label='Canceled goals')\n",
    "    plt.title('Goals history')\n",
    "    plt.legend()\n",
    "    plt.show()\n",
    "    \n",
    "buttonGoals.on_click(showGoals)"
   ]
  },
  {
   "cell_type": "code",
   "execution_count": null,
   "id": "11aabc46",
   "metadata": {},
   "outputs": [],
   "source": []
  }
 ],
 "metadata": {
  "kernelspec": {
   "display_name": "Python 3 (ipykernel)",
   "language": "python",
   "name": "python3"
  },
  "language_info": {
   "codemirror_mode": {
    "name": "ipython",
    "version": 3
   },
   "file_extension": ".py",
   "mimetype": "text/x-python",
   "name": "python",
   "nbconvert_exporter": "python",
   "pygments_lexer": "ipython3",
   "version": "3.8.5"
  }
 },
 "nbformat": 4,
 "nbformat_minor": 5
}
